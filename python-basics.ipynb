{
 "cells": [
  {
   "cell_type": "markdown",
   "id": "a07fb15e-ac18-4870-b913-441014ac5c1f",
   "metadata": {},
   "source": [
    "# Operators\n",
    "\n",
    "## Arithmetic operators\n",
    "\n",
    "`+, -, /, *`"
   ]
  },
  {
   "cell_type": "code",
   "execution_count": 3,
   "id": "35b49e12-a7a0-4374-a09e-d1596aea86ab",
   "metadata": {},
   "outputs": [
    {
     "data": {
      "text/plain": [
       "3.0"
      ]
     },
     "execution_count": 3,
     "metadata": {},
     "output_type": "execute_result"
    }
   ],
   "source": [
    "3 + 4 - 2 * 2 / 1"
   ]
  },
  {
   "cell_type": "markdown",
   "id": "fa38cea7-367e-46ae-ac54-449628596610",
   "metadata": {},
   "source": [
    "## Comparison Operator\n",
    "\n",
    "less than (`<`), greater than (`>`), less than equal to (`<=`), greater than equal to (`>=`), equality (`==`)"
   ]
  },
  {
   "cell_type": "code",
   "execution_count": 8,
   "id": "0d95fcec-15ce-4cce-9dbf-e14aa4ffad52",
   "metadata": {},
   "outputs": [
    {
     "data": {
      "text/plain": [
       "True"
      ]
     },
     "execution_count": 8,
     "metadata": {},
     "output_type": "execute_result"
    }
   ],
   "source": [
    "(10 + 23 / 3) > 5"
   ]
  },
  {
   "cell_type": "markdown",
   "id": "1a9c99ab-4315-4754-a485-02820dba5d08",
   "metadata": {},
   "source": [
    "## Assignment Operator\n",
    "\n",
    "assigning variables `=`"
   ]
  },
  {
   "cell_type": "code",
   "execution_count": 10,
   "id": "d6066ef7-51cf-4553-8590-be0e5d932587",
   "metadata": {},
   "outputs": [
    {
     "data": {
      "text/plain": [
       "11.0"
      ]
     },
     "execution_count": 10,
     "metadata": {},
     "output_type": "execute_result"
    }
   ],
   "source": [
    "x = (10 + 23) / 3\n",
    "x"
   ]
  },
  {
   "cell_type": "code",
   "execution_count": 11,
   "id": "dd79d94c-ec0d-42cc-912a-e509042aa534",
   "metadata": {},
   "outputs": [
    {
     "data": {
      "text/plain": [
       "13.0"
      ]
     },
     "execution_count": 11,
     "metadata": {},
     "output_type": "execute_result"
    }
   ],
   "source": [
    "x + 2"
   ]
  },
  {
   "cell_type": "markdown",
   "id": "67d14098-bee8-471d-b81c-fcc1b9c9e34e",
   "metadata": {},
   "source": [
    "## Complex Arithmetic Operations\n",
    "\n",
    "Arithmetic Integer Division (`//`), Modulo (`%`), Exponentiation (`**`)"
   ]
  },
  {
   "cell_type": "code",
   "execution_count": 12,
   "id": "60c85a4f-1401-4e65-8a4a-c473e8dd190c",
   "metadata": {},
   "outputs": [
    {
     "data": {
      "text/plain": [
       "1.6666666666666667"
      ]
     },
     "execution_count": 12,
     "metadata": {},
     "output_type": "execute_result"
    }
   ],
   "source": [
    "5 / 3"
   ]
  },
  {
   "cell_type": "code",
   "execution_count": 17,
   "id": "2053fe7c-0070-4690-b3c4-eee3e9d171bc",
   "metadata": {},
   "outputs": [
    {
     "name": "stdout",
     "output_type": "stream",
     "text": [
      "Quotient:  3\n",
      "Remainder:  1\n"
     ]
    }
   ],
   "source": [
    "print('Quotient: ', 10 // 3)\n",
    "print('Remainder: ', 10 % 3)"
   ]
  },
  {
   "cell_type": "code",
   "execution_count": 20,
   "id": "719e718a-0bae-41f7-b02d-391f8961a145",
   "metadata": {},
   "outputs": [
    {
     "data": {
      "text/plain": [
       "9"
      ]
     },
     "execution_count": 20,
     "metadata": {},
     "output_type": "execute_result"
    }
   ],
   "source": [
    "3 ** 2"
   ]
  },
  {
   "cell_type": "code",
   "execution_count": 21,
   "id": "01097554-d17a-4013-8382-606d479733b6",
   "metadata": {},
   "outputs": [
    {
     "data": {
      "text/plain": [
       "27"
      ]
     },
     "execution_count": 21,
     "metadata": {},
     "output_type": "execute_result"
    }
   ],
   "source": [
    "3 ** 3"
   ]
  },
  {
   "cell_type": "markdown",
   "id": "9c7a5f4d-0257-4323-a94c-fd9d2c3abd63",
   "metadata": {},
   "source": [
    "## Arithmetic Assignment Operators\n",
    "\n",
    "Combines both **arithmetic** and **assignment** operators (`+=, -=, *=, /=`)"
   ]
  },
  {
   "cell_type": "markdown",
   "id": "60ef58ee-b553-4136-8cc2-f6093861fe58",
   "metadata": {},
   "source": [
    "These two pieces of code does the same thing"
   ]
  },
  {
   "cell_type": "code",
   "execution_count": 29,
   "id": "d0fe3928-46e5-4f43-90a8-9db98c0c80d5",
   "metadata": {},
   "outputs": [
    {
     "data": {
      "text/plain": [
       "12"
      ]
     },
     "execution_count": 29,
     "metadata": {},
     "output_type": "execute_result"
    }
   ],
   "source": [
    "x = 3\n",
    "\n",
    "x = x * 4\n",
    "x"
   ]
  },
  {
   "cell_type": "code",
   "execution_count": 32,
   "id": "e50d6977-d87c-4906-93f7-0003f71c9537",
   "metadata": {},
   "outputs": [
    {
     "data": {
      "text/plain": [
       "12"
      ]
     },
     "execution_count": 32,
     "metadata": {},
     "output_type": "execute_result"
    }
   ],
   "source": [
    "x = 3\n",
    "\n",
    "x *= 4\n",
    "x"
   ]
  },
  {
   "cell_type": "markdown",
   "id": "eade0e6d-6b02-4903-a1f4-ea3e78e7b4b8",
   "metadata": {},
   "source": [
    "## Boolean Operator\n",
    "\n",
    "For boolean operations (`not`, `and`, `or`)"
   ]
  },
  {
   "cell_type": "code",
   "execution_count": 35,
   "id": "781be9bf-c10c-4a8a-9934-1f5c90ba511d",
   "metadata": {},
   "outputs": [
    {
     "data": {
      "text/plain": [
       "False"
      ]
     },
     "execution_count": 35,
     "metadata": {},
     "output_type": "execute_result"
    }
   ],
   "source": [
    "x = True\n",
    "\n",
    "not x"
   ]
  },
  {
   "cell_type": "markdown",
   "id": "88f737b0-0145-44da-b071-e849de87afa8",
   "metadata": {},
   "source": [
    "The following two expressions are equivalent"
   ]
  },
  {
   "cell_type": "code",
   "execution_count": 36,
   "id": "03348c23-74a0-443f-b1f0-3de228d54ba5",
   "metadata": {},
   "outputs": [
    {
     "data": {
      "text/plain": [
       "True"
      ]
     },
     "execution_count": 36,
     "metadata": {},
     "output_type": "execute_result"
    }
   ],
   "source": [
    "not (3 > 5)"
   ]
  },
  {
   "cell_type": "code",
   "execution_count": 38,
   "id": "72f13e43-6b58-43e7-9b43-b9478a8733cb",
   "metadata": {},
   "outputs": [
    {
     "data": {
      "text/plain": [
       "True"
      ]
     },
     "execution_count": 38,
     "metadata": {},
     "output_type": "execute_result"
    }
   ],
   "source": [
    "3 <= 5"
   ]
  },
  {
   "cell_type": "code",
   "execution_count": 39,
   "id": "0fef2d09-0437-4c1d-b272-bc022684693f",
   "metadata": {},
   "outputs": [
    {
     "data": {
      "text/plain": [
       "True"
      ]
     },
     "execution_count": 39,
     "metadata": {},
     "output_type": "execute_result"
    }
   ],
   "source": [
    "True and True"
   ]
  },
  {
   "cell_type": "code",
   "execution_count": 40,
   "id": "fdefe0bf-107c-4533-9e71-8c23c5dfeae2",
   "metadata": {},
   "outputs": [
    {
     "data": {
      "text/plain": [
       "False"
      ]
     },
     "execution_count": 40,
     "metadata": {},
     "output_type": "execute_result"
    }
   ],
   "source": [
    "True and True and False"
   ]
  },
  {
   "cell_type": "code",
   "execution_count": 41,
   "id": "aef256b1-dec2-47d3-87b7-6fbd5129af45",
   "metadata": {},
   "outputs": [
    {
     "data": {
      "text/plain": [
       "True"
      ]
     },
     "execution_count": 41,
     "metadata": {},
     "output_type": "execute_result"
    }
   ],
   "source": [
    "True or False or False"
   ]
  },
  {
   "cell_type": "code",
   "execution_count": 53,
   "id": "a95ab502-3db5-44e2-a31b-e2f42123c154",
   "metadata": {},
   "outputs": [
    {
     "data": {
      "text/plain": [
       "True"
      ]
     },
     "execution_count": 53,
     "metadata": {},
     "output_type": "execute_result"
    }
   ],
   "source": [
    "x = 5\n",
    "\n",
    "# Check if x is strictly between 0 and 10 (exclusive)\n",
    "x > 0 and x < 10"
   ]
  },
  {
   "cell_type": "code",
   "execution_count": 52,
   "id": "c8876062-42d0-42a9-90d2-e2eb3e9bf187",
   "metadata": {},
   "outputs": [
    {
     "data": {
      "text/plain": [
       "True"
      ]
     },
     "execution_count": 52,
     "metadata": {},
     "output_type": "execute_result"
    }
   ],
   "source": [
    "x = 10\n",
    "\n",
    "## Check if x is a multiple of 3 or a multiple of 5\n",
    "x % 3 == 0 or x % 5 == 0"
   ]
  },
  {
   "cell_type": "markdown",
   "id": "86210520-36e5-413e-8df5-106f5a6b100c",
   "metadata": {},
   "source": [
    "## Binary Operator\n",
    "\n",
    "Bit-shift (`>>` and `<<`), Bitwise-and (`&`), Bitwise-or (`|`). These are not commonly used"
   ]
  },
  {
   "cell_type": "code",
   "execution_count": 56,
   "id": "caf7bb20-7380-4e78-a642-3984aa739946",
   "metadata": {},
   "outputs": [
    {
     "data": {
      "text/plain": [
       "7"
      ]
     },
     "execution_count": 56,
     "metadata": {},
     "output_type": "execute_result"
    }
   ],
   "source": [
    "5 | 6"
   ]
  },
  {
   "cell_type": "code",
   "execution_count": 58,
   "id": "16c0cc54-497f-4a26-ae3b-4cb0c3b0e9cd",
   "metadata": {},
   "outputs": [
    {
     "data": {
      "text/plain": [
       "'0b101'"
      ]
     },
     "execution_count": 58,
     "metadata": {},
     "output_type": "execute_result"
    }
   ],
   "source": [
    "bin(5)"
   ]
  },
  {
   "cell_type": "code",
   "execution_count": 60,
   "id": "a77847f7-ad54-400b-bae9-b8b6708a8e00",
   "metadata": {},
   "outputs": [
    {
     "data": {
      "text/plain": [
       "'0b10100'"
      ]
     },
     "execution_count": 60,
     "metadata": {},
     "output_type": "execute_result"
    }
   ],
   "source": [
    "bin(5 << 2)"
   ]
  },
  {
   "cell_type": "code",
   "execution_count": 62,
   "id": "3c2f2daa-0591-495a-be1c-8070d96d37c0",
   "metadata": {},
   "outputs": [
    {
     "data": {
      "text/plain": [
       "'0b1010'"
      ]
     },
     "execution_count": 62,
     "metadata": {},
     "output_type": "execute_result"
    }
   ],
   "source": [
    "bin((5 << 2) >> 1)"
   ]
  },
  {
   "cell_type": "code",
   "execution_count": 63,
   "id": "7e4ebc0e-cb6d-4329-8a91-b88d1d724ff6",
   "metadata": {},
   "outputs": [
    {
     "data": {
      "text/plain": [
       "'0b10'"
      ]
     },
     "execution_count": 63,
     "metadata": {},
     "output_type": "execute_result"
    }
   ],
   "source": [
    "bin(5 >> 1)"
   ]
  },
  {
   "cell_type": "markdown",
   "id": "abd34ea6-f36e-4f09-9fff-29ecba0d92ff",
   "metadata": {},
   "source": [
    "# Data Structures\n",
    "\n",
    "## List"
   ]
  },
  {
   "cell_type": "code",
   "execution_count": 80,
   "id": "0a50d984-5800-49e7-bfb1-fb493376c250",
   "metadata": {},
   "outputs": [
    {
     "data": {
      "text/plain": [
       "[1, 3, 4, 6]"
      ]
     },
     "execution_count": 80,
     "metadata": {},
     "output_type": "execute_result"
    }
   ],
   "source": [
    "[1, 3, 4, 6]"
   ]
  },
  {
   "cell_type": "code",
   "execution_count": 81,
   "id": "913db970-717f-449e-b2f9-eb4c829a6cf3",
   "metadata": {},
   "outputs": [
    {
     "data": {
      "text/plain": [
       "[1, 3, 4, 6]"
      ]
     },
     "execution_count": 81,
     "metadata": {},
     "output_type": "execute_result"
    }
   ],
   "source": [
    "x = [1, 3, 4, 6]\n",
    "x"
   ]
  },
  {
   "cell_type": "markdown",
   "id": "96b3cfed-fd81-4efa-9a47-b9240f127d51",
   "metadata": {},
   "source": [
    "You can append to the end of the list using `.append`"
   ]
  },
  {
   "cell_type": "code",
   "execution_count": 82,
   "id": "20962a68-17e5-4f45-a9e4-e5379ae36d33",
   "metadata": {},
   "outputs": [],
   "source": [
    "x.append(10)"
   ]
  },
  {
   "cell_type": "code",
   "execution_count": 83,
   "id": "49975cf6-35bd-4497-bfec-14c3e86e8eaf",
   "metadata": {},
   "outputs": [
    {
     "data": {
      "text/plain": [
       "[1, 3, 4, 6, 10]"
      ]
     },
     "execution_count": 83,
     "metadata": {},
     "output_type": "execute_result"
    }
   ],
   "source": [
    "x"
   ]
  },
  {
   "cell_type": "markdown",
   "id": "7c94099a-121a-4373-ac78-b66c039d2db1",
   "metadata": {},
   "source": [
    "You can access or modify a list using its index. Indices in python are zero-base (first index is 0)"
   ]
  },
  {
   "cell_type": "code",
   "execution_count": 84,
   "id": "4c208583-efb8-4469-8e38-91f78086360e",
   "metadata": {},
   "outputs": [
    {
     "data": {
      "text/plain": [
       "1"
      ]
     },
     "execution_count": 84,
     "metadata": {},
     "output_type": "execute_result"
    }
   ],
   "source": [
    "x[0]"
   ]
  },
  {
   "cell_type": "code",
   "execution_count": 85,
   "id": "51e2695e-59e2-4986-8acf-2705965b4ec9",
   "metadata": {},
   "outputs": [],
   "source": [
    "x[0] = 15"
   ]
  },
  {
   "cell_type": "code",
   "execution_count": 86,
   "id": "b8a16346-11c9-402f-9a2f-63abc5de5446",
   "metadata": {},
   "outputs": [
    {
     "data": {
      "text/plain": [
       "[15, 3, 4, 6, 10]"
      ]
     },
     "execution_count": 86,
     "metadata": {},
     "output_type": "execute_result"
    }
   ],
   "source": [
    "x"
   ]
  },
  {
   "cell_type": "markdown",
   "id": "aeaa6e77-6cca-40b7-a32b-d6bbfd6405d1",
   "metadata": {},
   "source": [
    "## Tuples\n",
    "\n",
    "Unlike Lists Tuples are immutable (cannot be changed! and are fixed size)"
   ]
  },
  {
   "cell_type": "code",
   "execution_count": 87,
   "id": "6fea90ad-9dc0-45c3-9e53-c20aca38c57e",
   "metadata": {},
   "outputs": [
    {
     "data": {
      "text/plain": [
       "(1, 3, 4, 6)"
      ]
     },
     "execution_count": 87,
     "metadata": {},
     "output_type": "execute_result"
    }
   ],
   "source": [
    "y = (1, 3, 4, 6)\n",
    "y"
   ]
  },
  {
   "cell_type": "markdown",
   "id": "278ddbd0-287d-436d-8f6f-0c60fe8589dc",
   "metadata": {},
   "source": [
    "Use tuples when you are working with a fixed dimensional space for example coordinates"
   ]
  },
  {
   "cell_type": "code",
   "execution_count": 90,
   "id": "e94015a3-9064-4849-832a-040dbfd38edb",
   "metadata": {},
   "outputs": [],
   "source": [
    "origin = (0, 0)\n",
    "point = (5, 5)"
   ]
  },
  {
   "cell_type": "markdown",
   "id": "99d50e1c-dd96-4f99-afd8-2c0e78d0aaf9",
   "metadata": {},
   "source": [
    "## Dictionary\n",
    "\n",
    "Creates an association between `key` and `value`"
   ]
  },
  {
   "cell_type": "code",
   "execution_count": 94,
   "id": "04a49410-feda-4b55-8c21-85acd49108b9",
   "metadata": {},
   "outputs": [],
   "source": [
    "d = {}\n",
    "\n",
    "d[0] = 'deepta'\n",
    "d[1] = 'student'\n",
    "d['foo'] = 754829540"
   ]
  },
  {
   "cell_type": "code",
   "execution_count": 95,
   "id": "75e05629-a893-43dd-bf10-5771b5e4d428",
   "metadata": {},
   "outputs": [
    {
     "data": {
      "text/plain": [
       "'deepta'"
      ]
     },
     "execution_count": 95,
     "metadata": {},
     "output_type": "execute_result"
    }
   ],
   "source": [
    "d[0]"
   ]
  },
  {
   "cell_type": "code",
   "execution_count": 96,
   "id": "88893959-d325-4124-a0cc-48965d971e4d",
   "metadata": {},
   "outputs": [
    {
     "data": {
      "text/plain": [
       "'student'"
      ]
     },
     "execution_count": 96,
     "metadata": {},
     "output_type": "execute_result"
    }
   ],
   "source": [
    "d[1]"
   ]
  },
  {
   "cell_type": "code",
   "execution_count": 97,
   "id": "7ec3202b-e188-44da-ad2e-174d8aca54e0",
   "metadata": {},
   "outputs": [
    {
     "data": {
      "text/plain": [
       "754829540"
      ]
     },
     "execution_count": 97,
     "metadata": {},
     "output_type": "execute_result"
    }
   ],
   "source": [
    "d['foo']"
   ]
  },
  {
   "cell_type": "markdown",
   "id": "8fb9da91-8b01-406e-93c1-fb9bbeac5ad8",
   "metadata": {},
   "source": [
    "# Control Flow\n",
    "\n",
    "Constructs such as `for`, `while`, `if, elif and else`"
   ]
  },
  {
   "cell_type": "markdown",
   "id": "6cc72e33-8723-4655-8fc4-53b9955b69d0",
   "metadata": {},
   "source": [
    "If Statements\n",
    "\n",
    "```\n",
    "if condition:\n",
    "    code\n",
    "```\n",
    "\n",
    "if `condition` is True, then code runs"
   ]
  },
  {
   "cell_type": "code",
   "execution_count": 102,
   "id": "1a0e5cc4-0018-41b3-8e56-a6687d6e0e72",
   "metadata": {},
   "outputs": [
    {
     "name": "stdout",
     "output_type": "stream",
     "text": [
      "Welcome\n"
     ]
    }
   ],
   "source": [
    "username = 'prachurya'\n",
    "\n",
    "if username == 'deepta':\n",
    "    print(\"Welcome\")\n",
    "elif username == 'prachurya':\n",
    "    print(\"Welcome\")\n",
    "else:\n",
    "    print(\"User not recognized\")"
   ]
  },
  {
   "cell_type": "code",
   "execution_count": 104,
   "id": "d81cc8ee-af11-42e1-a063-c8290be3251e",
   "metadata": {},
   "outputs": [
    {
     "name": "stdout",
     "output_type": "stream",
     "text": [
      "Hello 0\n",
      "Hello 1\n",
      "Hello 2\n",
      "Hello 3\n",
      "Hello 4\n",
      "Hello 5\n",
      "Hello 6\n",
      "Hello 7\n",
      "Hello 8\n",
      "Hello 9\n"
     ]
    }
   ],
   "source": [
    "for i in range(10):\n",
    "    print(\"Hello\", i)"
   ]
  },
  {
   "cell_type": "code",
   "execution_count": 107,
   "id": "fcfb60ad-8143-4802-945d-e5081dc7bffe",
   "metadata": {},
   "outputs": [
    {
     "name": "stdout",
     "output_type": "stream",
     "text": [
      "Hello 0\n",
      "Hello 1\n",
      "Hello 2\n",
      "Hello 3\n",
      "Hello 4\n",
      "Hello 5\n",
      "Hello 6\n",
      "Hello 7\n",
      "Hello 8\n",
      "Hello 9\n"
     ]
    }
   ],
   "source": [
    "x = 0\n",
    "\n",
    "while x < 10:\n",
    "    print(\"Hello\", x)\n",
    "    x += 1"
   ]
  },
  {
   "cell_type": "code",
   "execution_count": 122,
   "id": "2f339ea2-59ea-4b53-8718-93cee4699725",
   "metadata": {},
   "outputs": [
    {
     "name": "stdin",
     "output_type": "stream",
     "text": [
      "Type a number:  deepta\n"
     ]
    },
    {
     "name": "stdout",
     "output_type": "stream",
     "text": [
      "Incorrect! Try again\n"
     ]
    },
    {
     "name": "stdin",
     "output_type": "stream",
     "text": [
      "Type a number:  dsjfhadf 3434\n"
     ]
    },
    {
     "name": "stdout",
     "output_type": "stream",
     "text": [
      "Incorrect! Try again\n"
     ]
    },
    {
     "name": "stdin",
     "output_type": "stream",
     "text": [
      "Type a number:  12\n"
     ]
    }
   ],
   "source": [
    "x = input(\"Type a number: \")\n",
    "\n",
    "while not x.isnumeric():\n",
    "    print(\"Incorrect! Try again\")\n",
    "\n",
    "    x = input(\"Type a number: \")"
   ]
  },
  {
   "cell_type": "markdown",
   "id": "5d02e338-685b-452e-a4a2-9060ccfba5c7",
   "metadata": {},
   "source": [
    "You can parse a string to int using `int()`"
   ]
  },
  {
   "cell_type": "code",
   "execution_count": 125,
   "id": "4add7a4a-05f4-44d4-a6ea-59c9422fa554",
   "metadata": {},
   "outputs": [
    {
     "data": {
      "text/plain": [
       "12"
      ]
     },
     "execution_count": 125,
     "metadata": {},
     "output_type": "execute_result"
    }
   ],
   "source": [
    "int(x)"
   ]
  },
  {
   "cell_type": "markdown",
   "id": "b87ff9a0-45b4-4a95-8687-eaac99afb0c4",
   "metadata": {},
   "source": [
    "## Type Checking\n",
    "\n",
    "You can check the type of a variable using `type()`"
   ]
  },
  {
   "cell_type": "code",
   "execution_count": 126,
   "id": "f92e31e9-da12-4840-abcf-0a697388308f",
   "metadata": {},
   "outputs": [
    {
     "data": {
      "text/plain": [
       "(12, '12')"
      ]
     },
     "execution_count": 126,
     "metadata": {},
     "output_type": "execute_result"
    }
   ],
   "source": [
    "x = 12\n",
    "y = '12'\n",
    "\n",
    "x , y"
   ]
  },
  {
   "cell_type": "code",
   "execution_count": 127,
   "id": "1418f344-0f7f-4105-87c4-480c826d7d87",
   "metadata": {},
   "outputs": [
    {
     "data": {
      "text/plain": [
       "int"
      ]
     },
     "execution_count": 127,
     "metadata": {},
     "output_type": "execute_result"
    }
   ],
   "source": [
    "type(x)"
   ]
  },
  {
   "cell_type": "code",
   "execution_count": 128,
   "id": "243f62e1-92a1-46fc-8def-bbb77650ad79",
   "metadata": {},
   "outputs": [
    {
     "data": {
      "text/plain": [
       "str"
      ]
     },
     "execution_count": 128,
     "metadata": {},
     "output_type": "execute_result"
    }
   ],
   "source": [
    "type(y)"
   ]
  },
  {
   "cell_type": "code",
   "execution_count": 129,
   "id": "f4a26e0e-e08e-4a0f-b868-e32a3d2366d7",
   "metadata": {},
   "outputs": [
    {
     "data": {
      "text/plain": [
       "list"
      ]
     },
     "execution_count": 129,
     "metadata": {},
     "output_type": "execute_result"
    }
   ],
   "source": [
    "type([1, 2, 3])"
   ]
  },
  {
   "cell_type": "code",
   "execution_count": 130,
   "id": "6f1a79ce-1dc2-4cf5-9b62-ddfb49ea4b67",
   "metadata": {},
   "outputs": [
    {
     "data": {
      "text/plain": [
       "tuple"
      ]
     },
     "execution_count": 130,
     "metadata": {},
     "output_type": "execute_result"
    }
   ],
   "source": [
    "type((1, 2, 3))"
   ]
  },
  {
   "cell_type": "markdown",
   "id": "1d66c1da-a8a9-4e9d-8601-648e8b64cb13",
   "metadata": {},
   "source": [
    "# Functions"
   ]
  },
  {
   "cell_type": "markdown",
   "id": "ed425fdf-2362-46a0-a74d-d519aac83cde",
   "metadata": {},
   "source": [
    "Here `EvenOdd` is the function name, use this to call the function later in your code.\n",
    "\n",
    "`x` is the parameter. You must pass it the value of x every time you call the function `EvenOdd`."
   ]
  },
  {
   "cell_type": "code",
   "execution_count": 154,
   "id": "efc18412-a4cb-41a0-9617-db422e63632f",
   "metadata": {},
   "outputs": [],
   "source": [
    "def EvenOdd(x):\n",
    "    if not isinstance(x, int):\n",
    "        print('x is not an integer')\n",
    "        return\n",
    "\n",
    "    if x % 2 == 0:\n",
    "        print('x is even')\n",
    "    else:\n",
    "        print('x is odd')"
   ]
  },
  {
   "cell_type": "code",
   "execution_count": 157,
   "id": "a391385d-ceed-4f3d-baf9-aa3f07e6e2d0",
   "metadata": {},
   "outputs": [
    {
     "name": "stdout",
     "output_type": "stream",
     "text": [
      "x is even\n"
     ]
    }
   ],
   "source": [
    "EvenOdd(4)"
   ]
  },
  {
   "cell_type": "code",
   "execution_count": null,
   "id": "56ea296f-bef8-4a9b-ab94-9f5cfda0720f",
   "metadata": {},
   "outputs": [],
   "source": []
  }
 ],
 "metadata": {
  "kernelspec": {
   "display_name": "Python 3 (ipykernel)",
   "language": "python",
   "name": "python3"
  },
  "language_info": {
   "codemirror_mode": {
    "name": "ipython",
    "version": 3
   },
   "file_extension": ".py",
   "mimetype": "text/x-python",
   "name": "python",
   "nbconvert_exporter": "python",
   "pygments_lexer": "ipython3",
   "version": "3.13.1"
  }
 },
 "nbformat": 4,
 "nbformat_minor": 5
}
