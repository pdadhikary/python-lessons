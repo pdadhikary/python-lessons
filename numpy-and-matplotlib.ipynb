{
 "cells": [
  {
   "cell_type": "markdown",
   "id": "73c8fc9c-e4bb-4733-a0c3-5587b54ba932",
   "metadata": {},
   "source": [
    "# Numpy\n",
    "\n",
    "## Arrays"
   ]
  },
  {
   "cell_type": "code",
   "execution_count": 2,
   "id": "48da0d44-7205-4522-a78c-57c5a35aa26e",
   "metadata": {},
   "outputs": [],
   "source": [
    "import numpy as np"
   ]
  },
  {
   "cell_type": "markdown",
   "id": "1c18c91a-90fb-4094-ac6b-ff702e1165da",
   "metadata": {},
   "source": [
    "`np` is the alias for numpy so that you don't have to type `numpy` every time you want to use it."
   ]
  },
  {
   "cell_type": "code",
   "execution_count": 4,
   "id": "2735a072-f393-4e07-9b84-464d5dc2f53a",
   "metadata": {},
   "outputs": [
    {
     "name": "stdout",
     "output_type": "stream",
     "text": [
      "[1, 2, 3, 4]\n",
      "<class 'list'>\n"
     ]
    }
   ],
   "source": [
    "x = [1, 2, 3, 4]\n",
    "\n",
    "print(x)\n",
    "print(type(x))"
   ]
  },
  {
   "cell_type": "code",
   "execution_count": 5,
   "id": "cec4d322-259f-4833-937b-1afdf1fa6a2a",
   "metadata": {},
   "outputs": [
    {
     "name": "stdout",
     "output_type": "stream",
     "text": [
      "[1 2 3 4]\n",
      "<class 'numpy.ndarray'>\n"
     ]
    }
   ],
   "source": [
    "y = np.array(x) # Converts x to a numpy array\n",
    "\n",
    "print(y)\n",
    "print(type(y))"
   ]
  },
  {
   "cell_type": "code",
   "execution_count": 7,
   "id": "b0641115-c8cd-4db7-b058-697b8e7405bb",
   "metadata": {},
   "outputs": [
    {
     "data": {
      "text/plain": [
       "array([[1, 2, 3],\n",
       "       [4, 5, 6],\n",
       "       [7, 8, 9]])"
      ]
     },
     "execution_count": 7,
     "metadata": {},
     "output_type": "execute_result"
    }
   ],
   "source": [
    "x = np.array([\n",
    "    [1, 2, 3],\n",
    "    [4, 5, 6],\n",
    "    [7, 8, 9]\n",
    "])\n",
    "\n",
    "x"
   ]
  },
  {
   "cell_type": "code",
   "execution_count": 8,
   "id": "e67c61df-e80d-4028-ba0e-5e39ae260eeb",
   "metadata": {},
   "outputs": [
    {
     "data": {
      "text/plain": [
       "array([1, 2, 3])"
      ]
     },
     "execution_count": 8,
     "metadata": {},
     "output_type": "execute_result"
    }
   ],
   "source": [
    "x[0]"
   ]
  },
  {
   "cell_type": "code",
   "execution_count": 13,
   "id": "e1761ba2-eccf-467e-844d-32a86661a29c",
   "metadata": {},
   "outputs": [
    {
     "data": {
      "text/plain": [
       "np.int64(9)"
      ]
     },
     "execution_count": 13,
     "metadata": {},
     "output_type": "execute_result"
    }
   ],
   "source": [
    "x[2, 2]"
   ]
  },
  {
   "cell_type": "code",
   "execution_count": 16,
   "id": "86e951be-8a43-4a4f-a2cb-9504f83209c0",
   "metadata": {},
   "outputs": [
    {
     "data": {
      "text/plain": [
       "array([2, 5, 8])"
      ]
     },
     "execution_count": 16,
     "metadata": {},
     "output_type": "execute_result"
    }
   ],
   "source": [
    "x[:, 1]"
   ]
  },
  {
   "cell_type": "code",
   "execution_count": 17,
   "id": "587decc5-56d6-47b4-ba6c-46b4df8bccd1",
   "metadata": {},
   "outputs": [
    {
     "data": {
      "text/plain": [
       "array([5, 8])"
      ]
     },
     "execution_count": 17,
     "metadata": {},
     "output_type": "execute_result"
    }
   ],
   "source": [
    "x[1:, 1]"
   ]
  },
  {
   "cell_type": "code",
   "execution_count": 19,
   "id": "9c9aa7ba-fa26-435d-b9ee-9b7969b684ea",
   "metadata": {},
   "outputs": [
    {
     "data": {
      "text/plain": [
       "array([2, 5])"
      ]
     },
     "execution_count": 19,
     "metadata": {},
     "output_type": "execute_result"
    }
   ],
   "source": [
    "x[:2, 1]"
   ]
  },
  {
   "cell_type": "code",
   "execution_count": 21,
   "id": "9ed3c33b-1409-4d75-9b54-b852ba2d8593",
   "metadata": {},
   "outputs": [
    {
     "data": {
      "text/plain": [
       "array([[ 3,  6,  9],\n",
       "       [12, 15, 18],\n",
       "       [21, 24, 27]])"
      ]
     },
     "execution_count": 21,
     "metadata": {},
     "output_type": "execute_result"
    }
   ],
   "source": [
    "x * 3 # Scalar Multiplication"
   ]
  },
  {
   "cell_type": "code",
   "execution_count": 23,
   "id": "b91042ed-52a5-490c-ab1c-5bc830db919d",
   "metadata": {},
   "outputs": [
    {
     "data": {
      "text/plain": [
       "array([[1, 2, 3],\n",
       "       [4, 5, 6],\n",
       "       [7, 8, 9]])"
      ]
     },
     "execution_count": 23,
     "metadata": {},
     "output_type": "execute_result"
    }
   ],
   "source": [
    "x"
   ]
  },
  {
   "cell_type": "code",
   "execution_count": 25,
   "id": "65ba6eb8-1df9-45c7-8f4f-22fecd3e7b30",
   "metadata": {},
   "outputs": [
    {
     "data": {
      "text/plain": [
       "array([[ 30,  36,  42],\n",
       "       [ 66,  81,  96],\n",
       "       [102, 126, 150]])"
      ]
     },
     "execution_count": 25,
     "metadata": {},
     "output_type": "execute_result"
    }
   ],
   "source": [
    "np.matmul(x, x) # Matrix Multiplication"
   ]
  },
  {
   "cell_type": "code",
   "execution_count": 26,
   "id": "82ffcaa5-f4f7-46a1-a356-d83129239301",
   "metadata": {},
   "outputs": [
    {
     "data": {
      "text/plain": [
       "array([[ 30,  36,  42],\n",
       "       [ 66,  81,  96],\n",
       "       [102, 126, 150]])"
      ]
     },
     "execution_count": 26,
     "metadata": {},
     "output_type": "execute_result"
    }
   ],
   "source": [
    "x @ x # @ is an alias for np.matmul"
   ]
  },
  {
   "cell_type": "code",
   "execution_count": 27,
   "id": "eb8f750f-3990-4887-80f8-009c975c623a",
   "metadata": {},
   "outputs": [
    {
     "data": {
      "text/plain": [
       "array([[1, 2, 3],\n",
       "       [4, 5, 6],\n",
       "       [7, 8, 9]])"
      ]
     },
     "execution_count": 27,
     "metadata": {},
     "output_type": "execute_result"
    }
   ],
   "source": [
    "x"
   ]
  },
  {
   "cell_type": "code",
   "execution_count": 36,
   "id": "d9d5f413-4829-4419-9741-0fd6ef0d88be",
   "metadata": {},
   "outputs": [
    {
     "data": {
      "text/plain": [
       "array([[1, 0, 0],\n",
       "       [0, 1, 0],\n",
       "       [0, 0, 1]])"
      ]
     },
     "execution_count": 36,
     "metadata": {},
     "output_type": "execute_result"
    }
   ],
   "source": [
    "x.T # Matrix Transposition"
   ]
  },
  {
   "cell_type": "code",
   "execution_count": 35,
   "id": "d0f87abb-598a-43fc-96d8-4eab5efd863a",
   "metadata": {},
   "outputs": [
    {
     "data": {
      "text/plain": [
       "array([[1., 0., 0.],\n",
       "       [0., 1., 0.],\n",
       "       [0., 0., 1.]])"
      ]
     },
     "execution_count": 35,
     "metadata": {},
     "output_type": "execute_result"
    }
   ],
   "source": [
    "x = np.array([\n",
    "    [1, 0, 0],\n",
    "    [0, 1, 0],\n",
    "    [0, 0, 1]\n",
    "])\n",
    "\n",
    "np.linalg.inv(x) # Matrix Inversion"
   ]
  },
  {
   "cell_type": "markdown",
   "id": "c76ef38b-924e-44ee-b10e-d4b696a1d097",
   "metadata": {},
   "source": [
    "## Numpy Untitlity Functions"
   ]
  },
  {
   "cell_type": "code",
   "execution_count": 41,
   "id": "ab2cd853-71fc-4663-944d-d30a2f7da17e",
   "metadata": {},
   "outputs": [
    {
     "data": {
      "text/plain": [
       "array([ 1.,  2.,  3.,  4.,  5.,  6.,  7.,  8.,  9., 10.])"
      ]
     },
     "execution_count": 41,
     "metadata": {},
     "output_type": "execute_result"
    }
   ],
   "source": [
    "np.linspace(1, 10, 10) # Linear sampling"
   ]
  },
  {
   "cell_type": "code",
   "execution_count": 43,
   "id": "848cfa1f-5983-4eca-b51c-330164d015e7",
   "metadata": {},
   "outputs": [
    {
     "data": {
      "text/plain": [
       "array([1.00000000e+001, 5.62341325e+025, 3.16227766e+050, 1.77827941e+075,\n",
       "       1.00000000e+100])"
      ]
     },
     "execution_count": 43,
     "metadata": {},
     "output_type": "execute_result"
    }
   ],
   "source": [
    "np.logspace(1, 100, 5) # Logarithmic sampling"
   ]
  },
  {
   "cell_type": "code",
   "execution_count": 45,
   "id": "2b35a074-7a39-4dab-856d-4068c89b9803",
   "metadata": {},
   "outputs": [
    {
     "data": {
      "text/plain": [
       "array([1, 3, 5, 7, 9])"
      ]
     },
     "execution_count": 45,
     "metadata": {},
     "output_type": "execute_result"
    }
   ],
   "source": [
    "np.arange(1, 10, 2) # Frequency sampling"
   ]
  },
  {
   "cell_type": "code",
   "execution_count": 60,
   "id": "71620759-4d6b-45b4-ba3c-fd42cc5f4560",
   "metadata": {},
   "outputs": [
    {
     "data": {
      "text/plain": [
       "array([ 0.49671415, -0.1382643 ,  0.64768854,  1.52302986, -0.23415337,\n",
       "       -0.23413696,  1.57921282,  0.76743473, -0.46947439,  0.54256004,\n",
       "       -0.46341769, -0.46572975,  0.24196227, -1.91328024, -1.72491783,\n",
       "       -0.56228753, -1.01283112,  0.31424733, -0.90802408, -1.4123037 ,\n",
       "        1.46564877, -0.2257763 ,  0.0675282 , -1.42474819, -0.54438272,\n",
       "        0.11092259, -1.15099358,  0.37569802, -0.60063869, -0.29169375,\n",
       "       -0.60170661,  1.85227818, -0.01349722, -1.05771093,  0.82254491,\n",
       "       -1.22084365,  0.2088636 , -1.95967012, -1.32818605,  0.19686124,\n",
       "        0.73846658,  0.17136828, -0.11564828, -0.3011037 , -1.47852199,\n",
       "       -0.71984421, -0.46063877,  1.05712223,  0.34361829, -1.76304016,\n",
       "        0.32408397, -0.38508228, -0.676922  ,  0.61167629,  1.03099952,\n",
       "        0.93128012, -0.83921752, -0.30921238,  0.33126343,  0.97554513,\n",
       "       -0.47917424, -0.18565898, -1.10633497, -1.19620662,  0.81252582,\n",
       "        1.35624003, -0.07201012,  1.0035329 ,  0.36163603, -0.64511975,\n",
       "        0.36139561,  1.53803657, -0.03582604,  1.56464366, -2.6197451 ,\n",
       "        0.8219025 ,  0.08704707, -0.29900735,  0.09176078, -1.98756891,\n",
       "       -0.21967189,  0.35711257,  1.47789404, -0.51827022, -0.8084936 ,\n",
       "       -0.50175704,  0.91540212,  0.32875111, -0.5297602 ,  0.51326743,\n",
       "        0.09707755,  0.96864499, -0.70205309, -0.32766215, -0.39210815,\n",
       "       -1.46351495,  0.29612028,  0.26105527,  0.00511346, -0.23458713])"
      ]
     },
     "execution_count": 60,
     "metadata": {},
     "output_type": "execute_result"
    }
   ],
   "source": [
    "np.random.seed(42) # seeding random number generation for reproducibility\n",
    "\n",
    "np.random.normal(0, 1, 100) # Random sampling"
   ]
  },
  {
   "cell_type": "code",
   "execution_count": 65,
   "id": "0843a72b-e6ca-412f-808e-bba2278e9ae7",
   "metadata": {},
   "outputs": [
    {
     "data": {
      "text/plain": [
       "array([[ 0.35778736,  0.56078453,  1.08305124,  1.05380205, -1.37766937],\n",
       "       [-0.93782504,  0.51503527,  0.51378595,  0.51504769,  3.85273149],\n",
       "       [ 0.57089051,  1.13556564,  0.95400176,  0.65139125, -0.31526924],\n",
       "       [ 0.75896922, -0.77282521, -0.23681861, -0.48536355,  0.08187414],\n",
       "       [ 2.31465857, -1.86726519,  0.68626019, -1.61271587, -0.47193187]])"
      ]
     },
     "execution_count": 65,
     "metadata": {},
     "output_type": "execute_result"
    }
   ],
   "source": [
    "np.random.normal(0, 1, (5, 5))"
   ]
  },
  {
   "cell_type": "code",
   "execution_count": 66,
   "id": "88f20620-a0a3-4d33-8273-f3208ffd2ad1",
   "metadata": {},
   "outputs": [
    {
     "data": {
      "text/plain": [
       "array([4, 0, 7, 4, 4, 6, 3, 5, 3, 2, 6, 7, 3, 1, 9, 2, 0, 7, 2, 9, 6, 9,\n",
       "       4, 9, 4, 6, 8, 4, 0, 9, 9, 0, 1, 5, 8, 7, 4, 0, 6, 4, 5, 6, 2, 9,\n",
       "       2, 4, 5, 8, 4, 0, 3, 4, 9, 9, 4, 6, 3, 0, 4, 6, 9, 9, 5, 4, 3, 1,\n",
       "       3, 9, 9, 2, 9, 0, 7, 4, 3, 7, 6, 1, 0, 3, 7, 1, 2, 0, 0, 2, 4, 2,\n",
       "       0, 0, 7, 9, 1, 2, 1, 2, 6, 0, 9, 7], dtype=int32)"
      ]
     },
     "execution_count": 66,
     "metadata": {},
     "output_type": "execute_result"
    }
   ],
   "source": [
    "np.random.randint(0, 10, 100)"
   ]
  },
  {
   "cell_type": "code",
   "execution_count": 67,
   "id": "eae18356-16a6-447b-ae10-7655e1897042",
   "metadata": {},
   "outputs": [
    {
     "data": {
      "text/plain": [
       "array([0.38539662, 0.68161367, 0.34062457, 0.26069453, 0.49603745,\n",
       "       0.69289036, 0.3483366 , 0.93664815, 0.03918633, 0.41794603,\n",
       "       0.96758055, 0.54797188, 0.42347094, 0.56852028, 0.57592458,\n",
       "       0.73164776, 0.12768973, 0.25001645, 0.58054401, 0.86711661,\n",
       "       0.56186669, 0.23859686, 0.67984478, 0.73990876, 0.23823615,\n",
       "       0.37772889, 0.53432747, 0.49656119, 0.38961809, 0.29763517,\n",
       "       0.09998489, 0.0534853 , 0.9585415 , 0.84714314, 0.35490519,\n",
       "       0.95680089, 0.6767699 , 0.48252095, 0.49302566, 0.08328441,\n",
       "       0.09170415, 0.60244093, 0.55370305, 0.2127279 , 0.94619454,\n",
       "       0.78129605, 0.1134646 , 0.93092911, 0.97424821, 0.99593124,\n",
       "       0.05587115, 0.73703556, 0.54591577, 0.70583148, 0.96865194,\n",
       "       0.68803001, 0.83696387, 0.86686871, 0.83848076, 0.42609148,\n",
       "       0.22257642, 0.3966516 , 0.89189691, 0.14660482, 0.51332617,\n",
       "       0.23322807, 0.58130542, 0.86313852, 0.88035997, 0.23668519,\n",
       "       0.90769371, 0.59188874, 0.35021825, 0.7081812 , 0.48166699,\n",
       "       0.37798759, 0.70508436, 0.24872415, 0.33025253, 0.43445184,\n",
       "       0.25368217, 0.40520209, 0.57147303, 0.74097386, 0.76719485,\n",
       "       0.82279035, 0.74421166, 0.68103943, 0.23750647, 0.40022289,\n",
       "       0.47771489, 0.08289132, 0.52837012, 0.43633583, 0.80210925,\n",
       "       0.97790067, 0.55600504, 0.32268639, 0.04340078, 0.92464333])"
      ]
     },
     "execution_count": 67,
     "metadata": {},
     "output_type": "execute_result"
    }
   ],
   "source": [
    "np.random.rand(100)"
   ]
  },
  {
   "cell_type": "markdown",
   "id": "c28441b2-271b-4f81-a801-1fd9cf45ebfa",
   "metadata": {},
   "source": [
    "# Matplotlib\n",
    "\n",
    "## pyplot"
   ]
  },
  {
   "cell_type": "code",
   "execution_count": 68,
   "id": "b3e508a7-e99b-4608-8c72-3843633bf332",
   "metadata": {},
   "outputs": [],
   "source": [
    "import matplotlib.pyplot as plt"
   ]
  },
  {
   "cell_type": "code",
   "execution_count": 80,
   "id": "0628cebc-2277-43d5-b025-c17f2181f9ee",
   "metadata": {},
   "outputs": [
    {
     "data": {
      "text/plain": [
       "array([-5.        , -4.79591837, -4.59183673, -4.3877551 , -4.18367347,\n",
       "       -3.97959184, -3.7755102 , -3.57142857, -3.36734694, -3.16326531,\n",
       "       -2.95918367, -2.75510204, -2.55102041, -2.34693878, -2.14285714,\n",
       "       -1.93877551, -1.73469388, -1.53061224, -1.32653061, -1.12244898,\n",
       "       -0.91836735, -0.71428571, -0.51020408, -0.30612245, -0.10204082,\n",
       "        0.10204082,  0.30612245,  0.51020408,  0.71428571,  0.91836735,\n",
       "        1.12244898,  1.32653061,  1.53061224,  1.73469388,  1.93877551,\n",
       "        2.14285714,  2.34693878,  2.55102041,  2.75510204,  2.95918367,\n",
       "        3.16326531,  3.36734694,  3.57142857,  3.7755102 ,  3.97959184,\n",
       "        4.18367347,  4.3877551 ,  4.59183673,  4.79591837,  5.        ])"
      ]
     },
     "execution_count": 80,
     "metadata": {},
     "output_type": "execute_result"
    }
   ],
   "source": [
    "x = np.linspace(-5, 5, 50)\n",
    "\n",
    "x"
   ]
  },
  {
   "cell_type": "code",
   "execution_count": 81,
   "id": "fe10f272-25bd-49c5-9394-037a3a8a0e05",
   "metadata": {},
   "outputs": [],
   "source": [
    "y = x * x"
   ]
  },
  {
   "cell_type": "code",
   "execution_count": 82,
   "id": "c2fcbd5f-2dd8-4664-8caf-950d1c1b5c7b",
   "metadata": {},
   "outputs": [
    {
     "data": {
      "text/plain": [
       "[<matplotlib.lines.Line2D at 0x1f4f3304190>]"
      ]
     },
     "execution_count": 82,
     "metadata": {},
     "output_type": "execute_result"
    },
    {
     "data": {
      "image/png": "[encoded data removed]",
      "text/plain": [
       "<Figure size 640x480 with 1 Axes>"
      ]
     },
     "metadata": {},
     "output_type": "display_data"
    }
   ],
   "source": [
    "plt.plot(x, y)"
   ]
  },
  {
   "cell_type": "code",
   "execution_count": 89,
   "id": "9adf3322-c189-4c67-bfb2-2103e6cb6b59",
   "metadata": {},
   "outputs": [
    {
     "data": {
      "image/png": "[encoded data removed]",
      "text/plain": [
       "<Figure size 640x480 with 1 Axes>"
      ]
     },
     "metadata": {},
     "output_type": "display_data"
    }
   ],
   "source": [
    "n = 10000\n",
    "\n",
    "x = np.random.normal(0, 1, n)\n",
    "y = np.random.rand(n)\n",
    "\n",
    "plt.hist(x, bins=100);"
   ]
  },
  {
   "cell_type": "code",
   "execution_count": 90,
   "id": "6e4ca253-d067-416a-ac9e-5925c41edcad",
   "metadata": {},
   "outputs": [
    {
     "data": {
      "image/png": "[encoded data removed]",
      "text/plain": [
       "<Figure size 640x480 with 1 Axes>"
      ]
     },
     "metadata": {},
     "output_type": "display_data"
    }
   ],
   "source": [
    "plt.hist(y, bins=100);"
   ]
  },
  {
   "cell_type": "markdown",
   "id": "a6e5085b-07aa-4155-b3ff-1cb0a22d82d8",
   "metadata": {},
   "source": [
    "## Subplots"
   ]
  },
  {
   "cell_type": "code",
   "execution_count": 117,
   "id": "ec23d90e-1d2a-4ba5-95e1-bcdb9c993afc",
   "metadata": {},
   "outputs": [
    {
     "data": {
      "image/png": "[encoded data removed]",
      "text/plain": [
       "<Figure size 1000x500 with 2 Axes>"
      ]
     },
     "metadata": {},
     "output_type": "display_data"
    }
   ],
   "source": [
    "fig, axes = plt.subplots(1, 2, figsize=(10, 5))\n",
    "\n",
    "ax1, ax2 = axes\n",
    "\n",
    "n = 10000\n",
    "bins = 100\n",
    "\n",
    "x = np.random.normal(0, 1, n)\n",
    "y = np.random.rand(n)\n",
    "\n",
    "ax1.hist(x, bins=bins, color='red')\n",
    "ax2.hist(y, bins=bins, color='green');\n",
    "\n",
    "fig.suptitle(\"Normal vs Linear Distribution\", fontsize=20)\n",
    "\n",
    "ax1.set_title(\"Standard Normal Distribution\")\n",
    "ax1.set_ylabel(\"Frequency\", fontsize=15)\n",
    "\n",
    "ax2.set_title(\"Linear Distribution\");\n",
    "\n",
    "# fig.savefig(\"myplot.png\", dpi=300) # saving the plt as png"
   ]
  },
  {
   "cell_type": "code",
   "execution_count": null,
   "id": "af39083a-eb1a-4413-bbf0-9ba82626e975",
   "metadata": {},
   "outputs": [],
   "source": []
  }
 ],
 "metadata": {
  "kernelspec": {
   "display_name": "Python 3 (ipykernel)",
   "language": "python",
   "name": "python3"
  },
  "language_info": {
   "codemirror_mode": {
    "name": "ipython",
    "version": 3
   },
   "file_extension": ".py",
   "mimetype": "text/x-python",
   "name": "python",
   "nbconvert_exporter": "python",
   "pygments_lexer": "ipython3",
   "version": "3.13.1"
  }
 },
 "nbformat": 4,
 "nbformat_minor": 5
}
